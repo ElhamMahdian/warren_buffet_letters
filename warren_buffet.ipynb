{
 "cells": [
  {
   "cell_type": "code",
   "execution_count": 19,
   "metadata": {},
   "outputs": [
    {
     "name": "stdout",
     "output_type": "stream",
     "text": [
      "Collecting pdf\n",
      "  Downloading pdf-2020.11.12-py3-none-any.whl (12 kB)\n",
      "Collecting silverware\n",
      "  Downloading silverware-2020.11.12-py3-none-any.whl (36 kB)\n",
      "Collecting pdftotree\n",
      "  Downloading pdftotree-0.5.0-py3-none-any.whl (56 kB)\n",
      "\u001b[K     |████████████████████████████████| 56 kB 1.9 MB/s eta 0:00:01\n",
      "\u001b[?25hCollecting pdfminer\n",
      "  Downloading pdfminer-20191125.tar.gz (4.2 MB)\n",
      "\u001b[K     |████████████████████████████████| 4.2 MB 4.3 MB/s eta 0:00:01\n",
      "\u001b[?25hCollecting disk\n",
      "  Downloading disk-2020.11.12-py3-none-any.whl (17 kB)\n",
      "Collecting bs4\n",
      "  Downloading bs4-0.0.1.tar.gz (1.1 kB)\n",
      "Requirement already satisfied: nltk in /Library/Frameworks/Python.framework/Versions/3.8/lib/python3.8/site-packages (from pdf) (3.5)\n",
      "Collecting chronometry\n",
      "  Downloading chronometry-2020.11.12-py3-none-any.whl (29 kB)\n",
      "Requirement already satisfied: pandas in /Users/jairneto/Library/Python/3.8/lib/python/site-packages (from pdf) (1.0.3)\n",
      "Requirement already satisfied: lxml in /Library/Frameworks/Python.framework/Versions/3.8/lib/python3.8/site-packages (from silverware->pdf) (4.6.2)\n",
      "Requirement already satisfied: joblib in /Library/Frameworks/Python.framework/Versions/3.8/lib/python3.8/site-packages (from silverware->pdf) (0.17.0)\n",
      "Collecting txt\n",
      "  Downloading txt-2020.11.12-py3-none-any.whl (3.8 kB)\n",
      "Collecting slytherin\n",
      "  Downloading slytherin-2020.11.12-py3-none-any.whl (23 kB)\n",
      "Collecting tabula-py\n",
      "  Downloading tabula_py-2.2.0-py3-none-any.whl (11.7 MB)\n",
      "\u001b[K     |████████████████████████████████| 11.7 MB 2.4 MB/s eta 0:00:01\n",
      "\u001b[?25hCollecting wand\n",
      "  Downloading Wand-0.6.6-py2.py3-none-any.whl (138 kB)\n",
      "\u001b[K     |████████████████████████████████| 138 kB 1.2 MB/s eta 0:00:01\n",
      "\u001b[?25hRequirement already satisfied: sklearn in /Library/Frameworks/Python.framework/Versions/3.8/lib/python3.8/site-packages (from pdftotree->pdf) (0.0)\n",
      "Requirement already satisfied: keras>=2.4.0 in /Library/Frameworks/Python.framework/Versions/3.8/lib/python3.8/site-packages (from pdftotree->pdf) (2.4.3)\n",
      "Requirement already satisfied: IPython in /Library/Frameworks/Python.framework/Versions/3.8/lib/python3.8/site-packages (from pdftotree->pdf) (7.13.0)\n",
      "Requirement already satisfied: pillow in /Users/jairneto/Library/Python/3.8/lib/python/site-packages (from pdftotree->pdf) (7.0.0)\n",
      "Collecting selectivesearch\n",
      "  Downloading selectivesearch-0.4.tar.gz (3.8 kB)\n",
      "Requirement already satisfied: numpy in /Users/jairneto/Library/Python/3.8/lib/python/site-packages (from pdftotree->pdf) (1.19.2)\n",
      "Requirement already satisfied: tensorflow>=2.2 in /Library/Frameworks/Python.framework/Versions/3.8/lib/python3.8/site-packages (from pdftotree->pdf) (2.4.0)\n",
      "Collecting pdfminer.six>=20191020\n",
      "  Downloading pdfminer.six-20201018-py3-none-any.whl (5.6 MB)\n",
      "\u001b[K     |████████████████████████████████| 5.6 MB 5.0 MB/s eta 0:00:01     |███████████████████             | 3.3 MB 5.0 MB/s eta 0:00:01     |███████████████████████▉        | 4.2 MB 5.0 MB/s eta 0:00:01     |██████████████████████████████▊ | 5.4 MB 5.0 MB/s eta 0:00:01\n",
      "\u001b[?25hRequirement already satisfied: beautifulsoup4 in /Library/Frameworks/Python.framework/Versions/3.8/lib/python3.8/site-packages (from pdftotree->pdf) (4.9.3)\n",
      "Collecting pycryptodome\n",
      "  Downloading pycryptodome-3.10.1-cp35-abi3-macosx_10_9_x86_64.whl (1.5 MB)\n",
      "\u001b[K     |████████████████████████████████| 1.5 MB 15.1 MB/s eta 0:00:01\n",
      "\u001b[?25hRequirement already satisfied: send2trash in /Library/Frameworks/Python.framework/Versions/3.8/lib/python3.8/site-packages (from disk->pdf) (1.5.0)\n",
      "Collecting dill\n",
      "  Downloading dill-0.3.3-py2.py3-none-any.whl (81 kB)\n",
      "\u001b[K     |████████████████████████████▏   | 71 kB 2.6 MB/s eta 0:00:01     |████████████████████████████████| 81 kB 2.7 MB/s \n",
      "\u001b[?25hRequirement already satisfied: tqdm in /Users/jairneto/Library/Python/3.8/lib/python/site-packages (from nltk->pdf) (4.41.1)\n",
      "Requirement already satisfied: click in /Library/Frameworks/Python.framework/Versions/3.8/lib/python3.8/site-packages (from nltk->pdf) (7.1.2)\n",
      "Requirement already satisfied: regex in /Library/Frameworks/Python.framework/Versions/3.8/lib/python3.8/site-packages (from nltk->pdf) (2020.11.13)\n",
      "Collecting func-timeout\n",
      "  Downloading func_timeout-4.3.5.tar.gz (44 kB)\n",
      "\u001b[K     |████████████████████████████████| 44 kB 3.8 MB/s eta 0:00:01\n",
      "\u001b[?25hRequirement already satisfied: matplotlib in /Users/jairneto/Library/Python/3.8/lib/python/site-packages (from chronometry->pdf) (3.2.1)\n",
      "Collecting colouration\n",
      "  Downloading colouration-2020.7.26-py3-none-any.whl (20 kB)\n",
      "Collecting ravenclaw\n",
      "  Downloading ravenclaw-2020.11.12-py3-none-any.whl (34 kB)\n",
      "Requirement already satisfied: pytz>=2017.2 in /Library/Frameworks/Python.framework/Versions/3.8/lib/python3.8/site-packages (from pandas->pdf) (2020.4)\n",
      "Requirement already satisfied: python-dateutil>=2.6.1 in /Library/Frameworks/Python.framework/Versions/3.8/lib/python3.8/site-packages (from pandas->pdf) (2.8.1)\n",
      "Collecting geopy\n",
      "  Downloading geopy-2.1.0-py3-none-any.whl (112 kB)\n",
      "\u001b[K     |████████████████████████████████| 112 kB 3.9 MB/s eta 0:00:01\n",
      "\u001b[?25hCollecting base32hex\n",
      "  Downloading base32hex-1.0.2.tar.gz (2.1 kB)\n",
      "Collecting distro\n",
      "  Downloading distro-1.5.0-py2.py3-none-any.whl (18 kB)\n",
      "Requirement already satisfied: scikit-learn in /Library/Frameworks/Python.framework/Versions/3.8/lib/python3.8/site-packages (from sklearn->pdftotree->pdf) (0.22.2.post1)\n",
      "Requirement already satisfied: h5py in /Library/Frameworks/Python.framework/Versions/3.8/lib/python3.8/site-packages (from keras>=2.4.0->pdftotree->pdf) (2.10.0)\n",
      "Requirement already satisfied: pyyaml in /Users/jairneto/Library/Python/3.8/lib/python/site-packages (from keras>=2.4.0->pdftotree->pdf) (5.3)\n",
      "Requirement already satisfied: scipy>=0.14 in /Users/jairneto/Library/Python/3.8/lib/python/site-packages (from keras>=2.4.0->pdftotree->pdf) (1.4.1)\n",
      "Requirement already satisfied: decorator in /Library/Frameworks/Python.framework/Versions/3.8/lib/python3.8/site-packages (from IPython->pdftotree->pdf) (4.4.2)\n",
      "Requirement already satisfied: jedi>=0.10 in /Library/Frameworks/Python.framework/Versions/3.8/lib/python3.8/site-packages (from IPython->pdftotree->pdf) (0.16.0)\n",
      "Requirement already satisfied: backcall in /Library/Frameworks/Python.framework/Versions/3.8/lib/python3.8/site-packages (from IPython->pdftotree->pdf) (0.1.0)\n",
      "Requirement already satisfied: traitlets>=4.2 in /Library/Frameworks/Python.framework/Versions/3.8/lib/python3.8/site-packages (from IPython->pdftotree->pdf) (4.3.3)\n",
      "Requirement already satisfied: pygments in /Library/Frameworks/Python.framework/Versions/3.8/lib/python3.8/site-packages (from IPython->pdftotree->pdf) (2.6.1)\n",
      "Requirement already satisfied: prompt-toolkit!=3.0.0,!=3.0.1,<3.1.0,>=2.0.0 in /Library/Frameworks/Python.framework/Versions/3.8/lib/python3.8/site-packages (from IPython->pdftotree->pdf) (3.0.4)\n",
      "Requirement already satisfied: pexpect; sys_platform != \"win32\" in /Library/Frameworks/Python.framework/Versions/3.8/lib/python3.8/site-packages (from IPython->pdftotree->pdf) (4.8.0)\n",
      "Requirement already satisfied: setuptools>=18.5 in /Library/Frameworks/Python.framework/Versions/3.8/lib/python3.8/site-packages (from IPython->pdftotree->pdf) (41.2.0)\n",
      "Requirement already satisfied: pickleshare in /Library/Frameworks/Python.framework/Versions/3.8/lib/python3.8/site-packages (from IPython->pdftotree->pdf) (0.7.5)\n",
      "Requirement already satisfied: appnope; sys_platform == \"darwin\" in /Library/Frameworks/Python.framework/Versions/3.8/lib/python3.8/site-packages (from IPython->pdftotree->pdf) (0.1.0)\n",
      "Requirement already satisfied: scikit-image in /Users/jairneto/Library/Python/3.8/lib/python/site-packages (from selectivesearch->pdftotree->pdf) (0.17.2)\n",
      "Requirement already satisfied: wrapt~=1.12.1 in /Users/jairneto/Library/Python/3.8/lib/python/site-packages (from tensorflow>=2.2->pdftotree->pdf) (1.12.1)\n",
      "Requirement already satisfied: gast==0.3.3 in /Library/Frameworks/Python.framework/Versions/3.8/lib/python3.8/site-packages (from tensorflow>=2.2->pdftotree->pdf) (0.3.3)\n",
      "Requirement already satisfied: wheel~=0.35 in /Library/Frameworks/Python.framework/Versions/3.8/lib/python3.8/site-packages (from tensorflow>=2.2->pdftotree->pdf) (0.36.1)\n",
      "Requirement already satisfied: protobuf>=3.9.2 in /Users/jairneto/Library/Python/3.8/lib/python/site-packages (from tensorflow>=2.2->pdftotree->pdf) (3.11.2)\n",
      "Requirement already satisfied: typing-extensions~=3.7.4 in /Library/Frameworks/Python.framework/Versions/3.8/lib/python3.8/site-packages (from tensorflow>=2.2->pdftotree->pdf) (3.7.4.3)\n",
      "Requirement already satisfied: grpcio~=1.32.0 in /Library/Frameworks/Python.framework/Versions/3.8/lib/python3.8/site-packages (from tensorflow>=2.2->pdftotree->pdf) (1.32.0)\n",
      "Requirement already satisfied: flatbuffers~=1.12.0 in /Library/Frameworks/Python.framework/Versions/3.8/lib/python3.8/site-packages (from tensorflow>=2.2->pdftotree->pdf) (1.12)\n",
      "Requirement already satisfied: six~=1.15.0 in /Library/Frameworks/Python.framework/Versions/3.8/lib/python3.8/site-packages (from tensorflow>=2.2->pdftotree->pdf) (1.15.0)\n",
      "Requirement already satisfied: opt-einsum~=3.3.0 in /Library/Frameworks/Python.framework/Versions/3.8/lib/python3.8/site-packages (from tensorflow>=2.2->pdftotree->pdf) (3.3.0)\n",
      "Requirement already satisfied: tensorboard~=2.4 in /Library/Frameworks/Python.framework/Versions/3.8/lib/python3.8/site-packages (from tensorflow>=2.2->pdftotree->pdf) (2.4.0)\n"
     ]
    },
    {
     "name": "stdout",
     "output_type": "stream",
     "text": [
      "Requirement already satisfied: astunparse~=1.6.3 in /Library/Frameworks/Python.framework/Versions/3.8/lib/python3.8/site-packages (from tensorflow>=2.2->pdftotree->pdf) (1.6.3)\n",
      "Requirement already satisfied: google-pasta~=0.2 in /Library/Frameworks/Python.framework/Versions/3.8/lib/python3.8/site-packages (from tensorflow>=2.2->pdftotree->pdf) (0.2.0)\n",
      "Requirement already satisfied: termcolor~=1.1.0 in /Library/Frameworks/Python.framework/Versions/3.8/lib/python3.8/site-packages (from tensorflow>=2.2->pdftotree->pdf) (1.1.0)\n",
      "Requirement already satisfied: tensorflow-estimator<2.5.0,>=2.4.0rc0 in /Library/Frameworks/Python.framework/Versions/3.8/lib/python3.8/site-packages (from tensorflow>=2.2->pdftotree->pdf) (2.4.0)\n",
      "Requirement already satisfied: keras-preprocessing~=1.1.2 in /Library/Frameworks/Python.framework/Versions/3.8/lib/python3.8/site-packages (from tensorflow>=2.2->pdftotree->pdf) (1.1.2)\n",
      "Requirement already satisfied: absl-py~=0.10 in /Users/jairneto/Library/Python/3.8/lib/python/site-packages (from tensorflow>=2.2->pdftotree->pdf) (0.10.0)\n",
      "Requirement already satisfied: chardet; python_version > \"3.0\" in /Library/Frameworks/Python.framework/Versions/3.8/lib/python3.8/site-packages (from pdfminer.six>=20191020->pdftotree->pdf) (3.0.4)\n",
      "Collecting sortedcontainers\n",
      "  Downloading sortedcontainers-2.3.0-py2.py3-none-any.whl (29 kB)\n",
      "Collecting cryptography\n",
      "  Downloading cryptography-3.4.7-cp36-abi3-macosx_10_10_x86_64.whl (2.0 MB)\n",
      "\u001b[K     |████████████████████████████████| 2.0 MB 102 kB/s eta 0:00:01\n",
      "\u001b[?25hRequirement already satisfied: soupsieve>1.2; python_version >= \"3.0\" in /Library/Frameworks/Python.framework/Versions/3.8/lib/python3.8/site-packages (from beautifulsoup4->pdftotree->pdf) (2.2.1)\n",
      "Requirement already satisfied: kiwisolver>=1.0.1 in /Library/Frameworks/Python.framework/Versions/3.8/lib/python3.8/site-packages (from matplotlib->chronometry->pdf) (1.3.1)\n",
      "Requirement already satisfied: pyparsing!=2.0.4,!=2.1.2,!=2.1.6,>=2.0.1 in /Library/Frameworks/Python.framework/Versions/3.8/lib/python3.8/site-packages (from matplotlib->chronometry->pdf) (2.4.7)\n",
      "Requirement already satisfied: cycler>=0.10 in /Library/Frameworks/Python.framework/Versions/3.8/lib/python3.8/site-packages (from matplotlib->chronometry->pdf) (0.10.0)\n",
      "Collecting SPARQLWrapper\n",
      "  Downloading SPARQLWrapper-1.8.5-py3-none-any.whl (26 kB)\n",
      "Collecting fuzzywuzzy\n",
      "  Downloading fuzzywuzzy-0.18.0-py2.py3-none-any.whl (18 kB)\n",
      "Collecting geographiclib<2,>=1.49\n",
      "  Downloading geographiclib-1.50-py3-none-any.whl (38 kB)\n",
      "Requirement already satisfied: parso>=0.5.2 in /Library/Frameworks/Python.framework/Versions/3.8/lib/python3.8/site-packages (from jedi>=0.10->IPython->pdftotree->pdf) (0.6.2)\n",
      "Requirement already satisfied: ipython-genutils in /Library/Frameworks/Python.framework/Versions/3.8/lib/python3.8/site-packages (from traitlets>=4.2->IPython->pdftotree->pdf) (0.2.0)\n",
      "Requirement already satisfied: wcwidth in /Library/Frameworks/Python.framework/Versions/3.8/lib/python3.8/site-packages (from prompt-toolkit!=3.0.0,!=3.0.1,<3.1.0,>=2.0.0->IPython->pdftotree->pdf) (0.1.8)\n",
      "Requirement already satisfied: ptyprocess>=0.5 in /Library/Frameworks/Python.framework/Versions/3.8/lib/python3.8/site-packages (from pexpect; sys_platform != \"win32\"->IPython->pdftotree->pdf) (0.6.0)\n",
      "Requirement already satisfied: tifffile>=2019.7.26 in /Users/jairneto/Library/Python/3.8/lib/python/site-packages (from scikit-image->selectivesearch->pdftotree->pdf) (2021.3.17)\n",
      "Requirement already satisfied: PyWavelets>=1.1.1 in /Users/jairneto/Library/Python/3.8/lib/python/site-packages (from scikit-image->selectivesearch->pdftotree->pdf) (1.1.1)\n",
      "Requirement already satisfied: imageio>=2.3.0 in /Users/jairneto/Library/Python/3.8/lib/python/site-packages (from scikit-image->selectivesearch->pdftotree->pdf) (2.9.0)\n",
      "Requirement already satisfied: networkx>=2.0 in /Users/jairneto/Library/Python/3.8/lib/python/site-packages (from scikit-image->selectivesearch->pdftotree->pdf) (2.5)\n",
      "Requirement already satisfied: werkzeug>=0.11.15 in /Users/jairneto/Library/Python/3.8/lib/python/site-packages (from tensorboard~=2.4->tensorflow>=2.2->pdftotree->pdf) (0.16.0)\n",
      "Requirement already satisfied: markdown>=2.6.8 in /Users/jairneto/Library/Python/3.8/lib/python/site-packages (from tensorboard~=2.4->tensorflow>=2.2->pdftotree->pdf) (3.1.1)\n",
      "Requirement already satisfied: google-auth-oauthlib<0.5,>=0.4.1 in /Library/Frameworks/Python.framework/Versions/3.8/lib/python3.8/site-packages (from tensorboard~=2.4->tensorflow>=2.2->pdftotree->pdf) (0.4.2)\n",
      "Requirement already satisfied: google-auth<2,>=1.6.3 in /Library/Frameworks/Python.framework/Versions/3.8/lib/python3.8/site-packages (from tensorboard~=2.4->tensorflow>=2.2->pdftotree->pdf) (1.24.0)\n",
      "Requirement already satisfied: requests<3,>=2.21.0 in /Library/Frameworks/Python.framework/Versions/3.8/lib/python3.8/site-packages (from tensorboard~=2.4->tensorflow>=2.2->pdftotree->pdf) (2.25.0)\n",
      "Requirement already satisfied: tensorboard-plugin-wit>=1.6.0 in /Library/Frameworks/Python.framework/Versions/3.8/lib/python3.8/site-packages (from tensorboard~=2.4->tensorflow>=2.2->pdftotree->pdf) (1.7.0)\n",
      "Collecting cffi>=1.12\n",
      "  Downloading cffi-1.14.5-cp38-cp38-macosx_10_9_x86_64.whl (176 kB)\n",
      "\u001b[K     |████████████████████████████████| 176 kB 2.5 MB/s eta 0:00:01\n",
      "\u001b[?25hCollecting rdflib>=4.0\n",
      "  Downloading rdflib-5.0.0-py3-none-any.whl (231 kB)\n",
      "\u001b[K     |████████████████████████████████| 231 kB 2.7 MB/s eta 0:00:01\n",
      "\u001b[?25hRequirement already satisfied: requests-oauthlib>=0.7.0 in /Library/Frameworks/Python.framework/Versions/3.8/lib/python3.8/site-packages (from google-auth-oauthlib<0.5,>=0.4.1->tensorboard~=2.4->tensorflow>=2.2->pdftotree->pdf) (1.3.0)\n",
      "Requirement already satisfied: cachetools<5.0,>=2.0.0 in /Library/Frameworks/Python.framework/Versions/3.8/lib/python3.8/site-packages (from google-auth<2,>=1.6.3->tensorboard~=2.4->tensorflow>=2.2->pdftotree->pdf) (4.2.0)\n",
      "Requirement already satisfied: pyasn1-modules>=0.2.1 in /Library/Frameworks/Python.framework/Versions/3.8/lib/python3.8/site-packages (from google-auth<2,>=1.6.3->tensorboard~=2.4->tensorflow>=2.2->pdftotree->pdf) (0.2.8)\n",
      "Requirement already satisfied: rsa<5,>=3.1.4; python_version >= \"3.6\" in /Library/Frameworks/Python.framework/Versions/3.8/lib/python3.8/site-packages (from google-auth<2,>=1.6.3->tensorboard~=2.4->tensorflow>=2.2->pdftotree->pdf) (4.6)\n",
      "Requirement already satisfied: urllib3<1.27,>=1.21.1 in /Library/Frameworks/Python.framework/Versions/3.8/lib/python3.8/site-packages (from requests<3,>=2.21.0->tensorboard~=2.4->tensorflow>=2.2->pdftotree->pdf) (1.26.2)\n",
      "Requirement already satisfied: idna<3,>=2.5 in /Library/Frameworks/Python.framework/Versions/3.8/lib/python3.8/site-packages (from requests<3,>=2.21.0->tensorboard~=2.4->tensorflow>=2.2->pdftotree->pdf) (2.10)\n",
      "Requirement already satisfied: certifi>=2017.4.17 in /Library/Frameworks/Python.framework/Versions/3.8/lib/python3.8/site-packages (from requests<3,>=2.21.0->tensorboard~=2.4->tensorflow>=2.2->pdftotree->pdf) (2019.11.28)\n",
      "Collecting pycparser\n",
      "  Using cached pycparser-2.20-py2.py3-none-any.whl (112 kB)\n",
      "Collecting isodate\n",
      "  Downloading isodate-0.6.0-py2.py3-none-any.whl (45 kB)\n",
      "\u001b[K     |████████████████████████████████| 45 kB 2.2 MB/s eta 0:00:01\n",
      "\u001b[?25hRequirement already satisfied: oauthlib>=3.0.0 in /Library/Frameworks/Python.framework/Versions/3.8/lib/python3.8/site-packages (from requests-oauthlib>=0.7.0->google-auth-oauthlib<0.5,>=0.4.1->tensorboard~=2.4->tensorflow>=2.2->pdftotree->pdf) (3.1.0)\n",
      "Requirement already satisfied: pyasn1<0.5.0,>=0.4.6 in /Library/Frameworks/Python.framework/Versions/3.8/lib/python3.8/site-packages (from pyasn1-modules>=0.2.1->google-auth<2,>=1.6.3->tensorboard~=2.4->tensorflow>=2.2->pdftotree->pdf) (0.4.8)\n",
      "Building wheels for collected packages: pdfminer, bs4, selectivesearch, func-timeout, base32hex\n",
      "  Building wheel for pdfminer (setup.py) ... \u001b[?25ldone\n",
      "\u001b[?25h  Created wheel for pdfminer: filename=pdfminer-20191125-py3-none-any.whl size=6140090 sha256=c3aa683c7b9cbcdbc38d155de1d3c9f2eed5df5e0a726d737eb4e06fa2b16c8f\n",
      "  Stored in directory: /Users/jairneto/Library/Caches/pip/wheels/1c/28/7d/f390b82bb0307deb63ff27a1474fd308ec68ee028cb9ab6283\n"
     ]
    },
    {
     "name": "stdout",
     "output_type": "stream",
     "text": [
      "  Building wheel for bs4 (setup.py) ... \u001b[?25ldone\n",
      "\u001b[?25h  Created wheel for bs4: filename=bs4-0.0.1-py3-none-any.whl size=1273 sha256=905b07bd3f6f717e4d261bac06088051a2910fef9e4ed2c06d1bdcf6b1478ea8\n",
      "  Stored in directory: /Users/jairneto/Library/Caches/pip/wheels/75/78/21/68b124549c9bdc94f822c02fb9aa3578a669843f9767776bca\n",
      "  Building wheel for selectivesearch (setup.py) ... \u001b[?25ldone\n",
      "\u001b[?25h  Created wheel for selectivesearch: filename=selectivesearch-0.4-py3-none-any.whl size=4360 sha256=ddcb3471be43bf13fffb2c087a1cad19b6b1065bfeb179ae7e89e0db0d7e69b2\n",
      "  Stored in directory: /Users/jairneto/Library/Caches/pip/wheels/66/4e/88/6de23ce74be839a953498c4ebdfa809ad7da9422ac89ae856c\n",
      "  Building wheel for func-timeout (setup.py) ... \u001b[?25ldone\n",
      "\u001b[?25h  Created wheel for func-timeout: filename=func_timeout-4.3.5-py3-none-any.whl size=15078 sha256=9ae06d8a414f1178c4a21ead809312e415209670419bbcf21a7bf87cc88dc6ff\n",
      "  Stored in directory: /Users/jairneto/Library/Caches/pip/wheels/a8/92/ca/5bbab358275e310af23b73fc32ebf37d6a7a08c87c8d2cdbc1\n",
      "  Building wheel for base32hex (setup.py) ... \u001b[?25ldone\n",
      "\u001b[?25h  Created wheel for base32hex: filename=base32hex-1.0.2-py3-none-any.whl size=2270 sha256=bfceb224f6e1eb9fbdf4e0b99b4bd9146c0b9f3575f6587a10389ec60b7a069c\n",
      "  Stored in directory: /Users/jairneto/Library/Caches/pip/wheels/a0/53/8e/dd8d5c8d6a6c96c36f3978f24519f85c432387756df7cd80ca\n",
      "Successfully built pdfminer bs4 selectivesearch func-timeout base32hex\n",
      "Installing collected packages: dill, geographiclib, geopy, base32hex, slytherin, func-timeout, colouration, isodate, rdflib, SPARQLWrapper, txt, fuzzywuzzy, ravenclaw, chronometry, disk, bs4, silverware, distro, tabula-py, wand, selectivesearch, sortedcontainers, pycparser, cffi, cryptography, pdfminer.six, pdftotree, pycryptodome, pdfminer, pdf\n",
      "Successfully installed SPARQLWrapper-1.8.5 base32hex-1.0.2 bs4-0.0.1 cffi-1.14.5 chronometry-2020.11.12 colouration-2020.7.26 cryptography-3.4.7 dill-0.3.3 disk-2020.11.12 distro-1.5.0 func-timeout-4.3.5 fuzzywuzzy-0.18.0 geographiclib-1.50 geopy-2.1.0 isodate-0.6.0 pdf-2020.11.12 pdfminer-20191125 pdfminer.six-20201018 pdftotree-0.5.0 pycparser-2.20 pycryptodome-3.10.1 ravenclaw-2020.11.12 rdflib-5.0.0 selectivesearch-0.4 silverware-2020.11.12 slytherin-2020.11.12 sortedcontainers-2.3.0 tabula-py-2.2.0 txt-2020.11.12 wand-0.6.6\n",
      "\u001b[33mWARNING: You are using pip version 20.0.2; however, version 21.0.1 is available.\n",
      "You should consider upgrading via the '/Library/Frameworks/Python.framework/Versions/3.8/bin/python3.8 -m pip install --upgrade pip' command.\u001b[0m\n"
     ]
    }
   ],
   "source": [
    "!pip install pdf"
   ]
  },
  {
   "cell_type": "code",
   "execution_count": null,
   "metadata": {},
   "outputs": [],
   "source": [
    "!pip install tika"
   ]
  },
  {
   "cell_type": "code",
   "execution_count": 22,
   "metadata": {},
   "outputs": [
    {
     "name": "stdout",
     "output_type": "stream",
     "text": [
      "Collecting PyPDF2\n",
      "  Downloading PyPDF2-1.26.0.tar.gz (77 kB)\n",
      "\u001b[K     |████████████████████████████████| 77 kB 924 kB/s eta 0:00:01\n",
      "\u001b[?25hBuilding wheels for collected packages: PyPDF2\n",
      "  Building wheel for PyPDF2 (setup.py) ... \u001b[?25ldone\n",
      "\u001b[?25h  Created wheel for PyPDF2: filename=PyPDF2-1.26.0-py3-none-any.whl size=61086 sha256=7367ca8c10eb8d01db96468c550fc41d17f2e6ed24cc4dec75c9ea27ebcf169d\n",
      "  Stored in directory: /Users/jairneto/Library/Caches/pip/wheels/b1/1a/8f/a4c34be976825a2f7948d0fa40907598d69834f8ab5889de11\n",
      "Successfully built PyPDF2\n",
      "Installing collected packages: PyPDF2\n",
      "Successfully installed PyPDF2-1.26.0\n",
      "\u001b[33mWARNING: You are using pip version 20.0.2; however, version 21.0.1 is available.\n",
      "You should consider upgrading via the '/Library/Frameworks/Python.framework/Versions/3.8/bin/python3.8 -m pip install --upgrade pip' command.\u001b[0m\n"
     ]
    }
   ],
   "source": [
    "!pip install PyPDF2"
   ]
  },
  {
   "cell_type": "code",
   "execution_count": 2,
   "metadata": {},
   "outputs": [
    {
     "name": "stdout",
     "output_type": "stream",
     "text": [
      "Collecting beautifulsoup4\n",
      "  Downloading beautifulsoup4-4.9.3-py3-none-any.whl (115 kB)\n",
      "\u001b[K     |████████████████████████████████| 115 kB 1.1 MB/s eta 0:00:01\n",
      "\u001b[?25hCollecting soupsieve>1.2; python_version >= \"3.0\"\n",
      "  Downloading soupsieve-2.2.1-py3-none-any.whl (33 kB)\n",
      "Installing collected packages: soupsieve, beautifulsoup4\n",
      "Successfully installed beautifulsoup4-4.9.3 soupsieve-2.2.1\n",
      "\u001b[33mWARNING: You are using pip version 20.0.2; however, version 21.0.1 is available.\n",
      "You should consider upgrading via the '/Library/Frameworks/Python.framework/Versions/3.8/bin/python3.8 -m pip install --upgrade pip' command.\u001b[0m\n"
     ]
    }
   ],
   "source": [
    "!pip install beautifulsoup4"
   ]
  },
  {
   "cell_type": "code",
   "execution_count": 1,
   "metadata": {},
   "outputs": [
    {
     "name": "stderr",
     "output_type": "stream",
     "text": [
      "[nltk_data] Downloading package punkt to /Users/jairneto/nltk_data...\n",
      "[nltk_data]   Package punkt is already up-to-date!\n",
      "[nltk_data] Downloading package wordnet to\n",
      "[nltk_data]     /Users/jairneto/nltk_data...\n",
      "[nltk_data]   Package wordnet is already up-to-date!\n",
      "[nltk_data] Downloading package averaged_perceptron_tagger to\n",
      "[nltk_data]     /Users/jairneto/nltk_data...\n",
      "[nltk_data]   Package averaged_perceptron_tagger is already up-to-\n",
      "[nltk_data]       date!\n",
      "[nltk_data] Downloading package stopwords to\n",
      "[nltk_data]     /Users/jairneto/nltk_data...\n",
      "[nltk_data]   Package stopwords is already up-to-date!\n"
     ]
    },
    {
     "data": {
      "text/plain": [
       "True"
      ]
     },
     "execution_count": 1,
     "metadata": {},
     "output_type": "execute_result"
    }
   ],
   "source": [
    "from urllib.request import urlopen\n",
    "from bs4 import BeautifulSoup\n",
    "from tika import parser\n",
    "import nltk\n",
    "import re\n",
    "from nltk.tokenize import word_tokenize\n",
    "from nltk.stem import WordNetLemmatizer\n",
    "from nltk.stem.porter import PorterStemmer\n",
    "from nltk.corpus import stopwords\n",
    "from sklearn.model_selection import train_test_split\n",
    "from sklearn.pipeline import Pipeline, FeatureUnion\n",
    "from sklearn.feature_extraction.text import CountVectorizer, TfidfTransformer\n",
    "import pandas as pd\n",
    "import numpy as np\n",
    "import seaborn as sns\n",
    "import matplotlib.pyplot as plt\n",
    "import pickle\n",
    "from pathlib import Path\n",
    "import pickle\n",
    "\n",
    "\n",
    "\n",
    "nltk.download(['punkt', 'wordnet', 'averaged_perceptron_tagger', 'stopwords'])"
   ]
  },
  {
   "cell_type": "code",
   "execution_count": 2,
   "metadata": {},
   "outputs": [],
   "source": [
    "def get_text_from_html(url, tags_to_ignore=[\"script\", \"style\"]):\n",
    "    text = ''\n",
    "    try:\n",
    "        html = urlopen(url).read()\n",
    "        soup = BeautifulSoup(html, features=\"html.parser\")\n",
    "        for script in soup(tags_to_ignore):\n",
    "            script.extract()    # rip it out\n",
    "\n",
    "        # get text\n",
    "        text = soup.get_text()\n",
    "\n",
    "        # break into lines and remove leading and trailing space on each\n",
    "        lines = (line.strip() for line in text.splitlines())\n",
    "        # break multi-headlines into a line each\n",
    "        chunks = (phrase.strip() for line in lines for phrase in line.split(\"  \"))\n",
    "        # drop blank lines\n",
    "        text = '\\n'.join(chunk for chunk in chunks if chunk)\n",
    "    except:\n",
    "        print(f'Could not open the url {url}')\n",
    "    \n",
    "    return text"
   ]
  },
  {
   "cell_type": "code",
   "execution_count": 3,
   "metadata": {},
   "outputs": [],
   "source": [
    "def get_text_from_pdf(path):\n",
    "    text = ''\n",
    "    try:\n",
    "        raw = parser.from_file(path)\n",
    "        text = raw['content']\n",
    "    except:\n",
    "        print(f'Could not open the path {path}')\n",
    "\n",
    "    return text"
   ]
  },
  {
   "cell_type": "code",
   "execution_count": 4,
   "metadata": {},
   "outputs": [],
   "source": [
    "def get_letters_corpus_dict(letters_pdf_path, init_year=1977, end_year=2020):\n",
    "    if init_year < 1977 or end_year > 2020:\n",
    "        print('The range supported is between 1977 and 2020')\n",
    "        return {}\n",
    "\n",
    "    letters_dict = dict()\n",
    "    letters_years = [year for year in range(init_year, end_year + 1)]\n",
    "    for year in letters_years:\n",
    "        if year >= 2000:\n",
    "            filename = f'{year}ltr.pdf'\n",
    "            path = Path(letters_pdf_path).joinpath(filename)\n",
    "            letter_corpus = get_text_from_pdf(str(path))\n",
    "        else:\n",
    "            if 1997 < year:\n",
    "                url = f'https://www.berkshirehathaway.com/letters/{year}htm.html'\n",
    "            else:\n",
    "                url = f'https://www.berkshirehathaway.com/letters/{year}.html'\n",
    "            letter_corpus = get_text_from_html(url)\n",
    "\n",
    "        letters_dict[year] = letter_corpus\n",
    "    \n",
    "    return letters_dict"
   ]
  },
  {
   "cell_type": "code",
   "execution_count": 50,
   "metadata": {},
   "outputs": [
    {
     "name": "stdout",
     "output_type": "stream",
     "text": [
      "Could not open the path /Users/jairneto/Downloads/2000ltr.pdf\n",
      "Could not open the path /Users/jairneto/Downloads/2001ltr.pdf\n",
      "Could not open the path /Users/jairneto/Downloads/2002ltr.pdf\n"
     ]
    }
   ],
   "source": [
    "letters_dict = get_letters_corpus_dict('/Users/jairneto/Downloads/')"
   ]
  },
  {
   "cell_type": "code",
   "execution_count": 126,
   "metadata": {},
   "outputs": [],
   "source": [
    "with open('letters_dict.pickle', 'wb') as handle:\n",
    "    pickle.dump(letters_dict, handle, protocol=pickle.HIGHEST_PROTOCOL)"
   ]
  },
  {
   "cell_type": "code",
   "execution_count": 5,
   "metadata": {},
   "outputs": [],
   "source": [
    "with open('letters_dict.pickle', 'rb') as handle:\n",
    "    letters_dict = pickle.load(handle)"
   ]
  },
  {
   "cell_type": "code",
   "execution_count": 7,
   "metadata": {},
   "outputs": [],
   "source": [
    "def tokenize(text, freq_words=[]):\n",
    "    \"\"\"Tokenize the text\n",
    "\n",
    "    Parameters\n",
    "    ----------\n",
    "    text: String\n",
    "        The message to be tokenized\n",
    "    freq_words: List\n",
    "        List with words that appears frequent at the text\n",
    "\n",
    "    Returns\n",
    "    -------\n",
    "    List\n",
    "        List with the clean tokens\n",
    "    \"\"\"\n",
    "    #TODO tem que tirar as frequent words\n",
    "    text = text.lower()\n",
    "    text = re.sub(\"[^a-zA-Z]\", \" \", text)\n",
    "    tokens = word_tokenize(text)\n",
    "    tokens = [w for w in tokens if w not in stopwords.words('english')]\n",
    "    tokens = [w for w in tokens if w not in frequent_words_list]\n",
    "\n",
    "    lemmatizer = WordNetLemmatizer()\n",
    "\n",
    "    clean_tokens_list = []\n",
    "    for tok in tokens:\n",
    "        lemmatizer_tok = lemmatizer.lemmatize(tok).strip()\n",
    "        clean_tokens_list.append(lemmatizer_tok)\n",
    "\n",
    "    return clean_tokens_list"
   ]
  },
  {
   "cell_type": "code",
   "execution_count": null,
   "metadata": {},
   "outputs": [],
   "source": [
    "frequent_words_list = ['year', 'business', 'berkshire', 'million', 'company', 'u',\n",
    "                       'billion', 'tax', 'investment', 'share', 'last', 'value',\n",
    "                       'would', 'many', 'operation', 'market', 'one', 'large', 'p',\n",
    "                       'make', 'asset', 'also', 'see', 'even', 'well', 'two', 'made',\n",
    "                       'pre', 'return', 'cost', 'capital', 'may', 'price', 'per', 'first',\n",
    "                       'annual', 'though', 'however', 'time',\n",
    "                       'manager', 'money', 'dollar', 'meeting',\n",
    "                       'interest', 'great', 'group', 'come', 'far',\n",
    "                       'long', 'worth', 'net', 'report', 'industry', 'put',\n",
    "                       'contract', 'must', 'yearend', 'day', 'major', 'real', 'since',\n",
    "                       'let', 'need', 'record', 'good', 'country', 'america', 'period',\n",
    "                       'average', 'increased', 'home', 'run', 'way',\n",
    "                       'world', 'second', 'four', 'product', 'largest', 'certain',\n",
    "                       'financial', 'three',\n",
    "                       'ago', 'almost', 'american',\n",
    "                       'amount', 'area', 'b',\n",
    "                       'believe', 'better', 'blue', 'board',\n",
    "                       'book', 'borrower', 'brown', 'buffett', 'buyer',\n",
    "                       'c', 'capacity', 'case', 'cash', 'casualty', 'cat', 'category',\n",
    "                       'change', 'charge', 'chip', 'charlie',\n",
    "                       'committee', 'common', 'controlled', 'corporate',\n",
    "                       'corporation', 'could', 'coupon', 'customer', 'debt',\n",
    "                       'director',\n",
    "                       'every',\n",
    "                       'fee', 'figure', 'find', 'five', 'float',\n",
    "                       'fund', 'g',\n",
    "                       'general', 'get', 'give', 'goodwill',\n",
    "                       'h', 'hathaway', 'helper', 'high', 'holding',\n",
    "                       'hour', 'housing', 'huge', 'important', 'inc', 'income',\n",
    "                       'intrinsic',\n",
    "                       'investor', 'k', 'know', 'le', 'like', 'line', 'look',\n",
    "                       'low', 'management', 'medium', 'merger',\n",
    "                       'mr', 'much', 'name', 'national', 'never',\n",
    "                       'new', 'news', 'non', 'number', 'often', 'operating',\n",
    "                       'others', 'owned', 'owner', 'ownership', 'page', 'paid',\n",
    "                       'paper', 'past', 'pay', 'payment', 'people',\n",
    "                       'preferred', 'premium',\n",
    "                       'purchase', 'question',\n",
    "                       'rather', 'ratio',\n",
    "                       'reported', 'reserve', 'result', 'retained',\n",
    "                       'rule', 'say',\n",
    "                       'september', 'service', 'shoe',\n",
    "                       'star', 'state', 'store', 'subsidiary', 'sunday', 'super',\n",
    "                       'take', 'ten', 'th',\n",
    "                       'therefore', 'utility', 'volume',\n",
    "                       'zero']"
   ]
  },
  {
   "cell_type": "code",
   "execution_count": 127,
   "metadata": {},
   "outputs": [],
   "source": [
    "## Create a document-term matrix with CountVectorizer\n",
    "df_letters = None\n",
    "for k in letters_dict:\n",
    "    count_v = CountVectorizer(tokenizer=tokenize)\n",
    "    letter_X = count_v.fit_transform([letters_dict[k]]).toarray()\n",
    "    if df_letters is None:\n",
    "        df_letters = pd.DataFrame(letter_X, columns=count_v.get_feature_names(), index=[k])\n",
    "    else:\n",
    "        df_letters = df_letters.append(pd.DataFrame(letter_X, columns=count_v.get_feature_names(), index=[k]))"
   ]
  },
  {
   "cell_type": "code",
   "execution_count": 164,
   "metadata": {},
   "outputs": [],
   "source": [
    "df_heat = None\n",
    "df_filtered = df_letters.T.query(f\"index not in {frequent_words_list}\")\n",
    "for col in df_filtered.columns:\n",
    "    col = int(col)\n",
    "    x = df_filtered.sort_values(col, ascending=False)[col]\n",
    "    if df_heat is None:\n",
    "        df_heat = x.to_frame()\n",
    "        df_heat.columns = [col]\n",
    "    else:\n",
    "        df_heat[col] = x"
   ]
  },
  {
   "cell_type": "code",
   "execution_count": 72,
   "metadata": {},
   "outputs": [
    {
     "data": {
      "text/plain": [
       "insurance     41.0\n",
       "bond          36.0\n",
       "loss          35.0\n",
       "derivative    23.0\n",
       "charlie       22.0\n",
       "              ... \n",
       "passed         1.0\n",
       "passing        1.0\n",
       "patrick        1.0\n",
       "performing     1.0\n",
       "ability        1.0\n",
       "Name: 2008, Length: 2168, dtype: float64"
      ]
     },
     "execution_count": 72,
     "metadata": {},
     "output_type": "execute_result"
    }
   ],
   "source": [
    "df_filtered[2008].sort_values(ascending=False).dropna()"
   ]
  },
  {
   "cell_type": "code",
   "execution_count": 165,
   "metadata": {},
   "outputs": [],
   "source": [
    "key_words = ['ceo', 'insurance', 'shareholder', 'gain', 'loss', 'stock', 'bond',\n",
    "             'acquisition', 'portfolio', 'risk', 'sale',\n",
    "             'discount', 'opportunity']\n",
    "x = df_heat.loc[key_words].fillna(0)"
   ]
  },
  {
   "cell_type": "code",
   "execution_count": 166,
   "metadata": {},
   "outputs": [
    {
     "data": {
      "text/plain": [
       "Text(0.5, 33.0, 'Fiscal Period')"
      ]
     },
     "execution_count": 166,
     "metadata": {},
     "output_type": "execute_result"
    },
    {
     "data": {
      "image/png": "[encoded data removed]",
      "text/plain": [
       "<Figure size 1080x432 with 2 Axes>"
      ]
     },
     "metadata": {
      "needs_background": "light"
     },
     "output_type": "display_data"
    }
   ],
   "source": [
    "fig, ax = plt.subplots(1, 1, figsize = (15, 6))\n",
    "sns.heatmap(x, cmap='ocean_r', annot=False)\n",
    "ax.set_ylabel('Key Words', fontsize=15)    \n",
    "ax.set_xlabel('Fiscal Period', fontsize=15)"
   ]
  }
 ],
 "metadata": {
  "kernelspec": {
   "display_name": "Python 3",
   "language": "python",
   "name": "python3"
  },
  "language_info": {
   "codemirror_mode": {
    "name": "ipython",
    "version": 3
   },
   "file_extension": ".py",
   "mimetype": "text/x-python",
   "name": "python",
   "nbconvert_exporter": "python",
   "pygments_lexer": "ipython3",
   "version": "3.8.0"
  }
 },
 "nbformat": 4,
 "nbformat_minor": 4
}
